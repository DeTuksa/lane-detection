{
 "cells": [
  {
   "cell_type": "markdown",
   "metadata": {
    "id": "63q3DZFtUg7_"
   },
   "source": [
    "# Lane Detection System"
   ]
  },
  {
   "cell_type": "markdown",
   "metadata": {
    "id": "qpo4CLUfUl17"
   },
   "source": [
    "### 1. Connecting Google Drive to Colab Notebook"
   ]
  },
  {
   "cell_type": "code",
   "execution_count": 1,
   "metadata": {
    "colab": {
     "base_uri": "https://localhost:8080/"
    },
    "executionInfo": {
     "elapsed": 19107,
     "status": "ok",
     "timestamp": 1735739620412,
     "user": {
      "displayName": "Emmanuel David",
      "userId": "10670689060028341610"
     },
     "user_tz": 0
    },
    "id": "Wl4b_yIkEd1m",
    "outputId": "7d55cff7-03f0-41fc-950e-0d6bae340e1d"
   },
   "outputs": [
    {
     "name": "stdout",
     "output_type": "stream",
     "text": [
      "Mounted at /content/drive\n"
     ]
    }
   ],
   "source": [
    "from google.colab import drive\n",
    "drive.mount('/content/drive')"
   ]
  },
  {
   "cell_type": "markdown",
   "metadata": {
    "id": "3tUDTz5AUzo9"
   },
   "source": [
    "### 2. Install Dependencies"
   ]
  },
  {
   "cell_type": "code",
   "execution_count": 2,
   "metadata": {
    "colab": {
     "base_uri": "https://localhost:8080/"
    },
    "executionInfo": {
     "elapsed": 2834,
     "status": "ok",
     "timestamp": 1735739631734,
     "user": {
      "displayName": "Emmanuel David",
      "userId": "10670689060028341610"
     },
     "user_tz": 0
    },
    "id": "eutBNyicFibG",
    "outputId": "acb3c08c-92c6-43ec-91d9-54d5c6b7c7f0"
   },
   "outputs": [
    {
     "name": "stdout",
     "output_type": "stream",
     "text": [
      "Requirement already satisfied: opencv-python-headless in /usr/local/lib/python3.10/dist-packages (4.10.0.84)\n",
      "Requirement already satisfied: numpy in /usr/local/lib/python3.10/dist-packages (1.26.4)\n",
      "Requirement already satisfied: matplotlib in /usr/local/lib/python3.10/dist-packages (3.8.0)\n",
      "Requirement already satisfied: contourpy>=1.0.1 in /usr/local/lib/python3.10/dist-packages (from matplotlib) (1.3.1)\n",
      "Requirement already satisfied: cycler>=0.10 in /usr/local/lib/python3.10/dist-packages (from matplotlib) (0.12.1)\n",
      "Requirement already satisfied: fonttools>=4.22.0 in /usr/local/lib/python3.10/dist-packages (from matplotlib) (4.55.3)\n",
      "Requirement already satisfied: kiwisolver>=1.0.1 in /usr/local/lib/python3.10/dist-packages (from matplotlib) (1.4.7)\n",
      "Requirement already satisfied: packaging>=20.0 in /usr/local/lib/python3.10/dist-packages (from matplotlib) (24.2)\n",
      "Requirement already satisfied: pillow>=6.2.0 in /usr/local/lib/python3.10/dist-packages (from matplotlib) (11.0.0)\n",
      "Requirement already satisfied: pyparsing>=2.3.1 in /usr/local/lib/python3.10/dist-packages (from matplotlib) (3.2.0)\n",
      "Requirement already satisfied: python-dateutil>=2.7 in /usr/local/lib/python3.10/dist-packages (from matplotlib) (2.8.2)\n",
      "Requirement already satisfied: six>=1.5 in /usr/local/lib/python3.10/dist-packages (from python-dateutil>=2.7->matplotlib) (1.17.0)\n"
     ]
    }
   ],
   "source": [
    "!pip install opencv-python-headless numpy matplotlib"
   ]
  },
  {
   "cell_type": "markdown",
   "metadata": {
    "id": "e6E1vcTKU5cc"
   },
   "source": [
    "### 3. Load and Process Each Image"
   ]
  },
  {
   "cell_type": "code",
   "execution_count": 3,
   "metadata": {
    "executionInfo": {
     "elapsed": 300778,
     "status": "ok",
     "timestamp": 1735739934059,
     "user": {
      "displayName": "Emmanuel David",
      "userId": "10670689060028341610"
     },
     "user_tz": 0
    },
    "id": "utyAIbYPPQo4"
   },
   "outputs": [],
   "source": [
    "import os\n",
    "import cv2\n",
    "\n",
    "image_folder = '/content/drive/My Drive/Lane-Detection-System/images/'\n",
    "image_files = sorted([os.path.join(image_folder, f) for f in os.listdir(image_folder) if f.endswith('.jpg')])\n",
    "\n",
    "for image_path in image_files:\n",
    "  image = cv2.imread(image_path)\n",
    "\n",
    "  if image is None:\n",
    "    print(f\"Error reading image {image_path}\")\n",
    "    continue"
   ]
  },
  {
   "cell_type": "markdown",
   "metadata": {
    "id": "T_-jurc6VBG_"
   },
   "source": [
    "### 4. Preprocess Each Image"
   ]
  },
  {
   "cell_type": "code",
   "execution_count": 4,
   "metadata": {
    "executionInfo": {
     "elapsed": 7,
     "status": "ok",
     "timestamp": 1735739934060,
     "user": {
      "displayName": "Emmanuel David",
      "userId": "10670689060028341610"
     },
     "user_tz": 0
    },
    "id": "07KwZdAVTxOg"
   },
   "outputs": [],
   "source": [
    "gray = cv2.cvtColor(image, cv2.COLOR_BGR2GRAY) # Convert to grayscale\n",
    "blur = cv2.GaussianBlur(gray, (5, 5), 0) # Apply Gaussian blur\n",
    "edges = cv2.Canny(blur, 50, 150) # Perform edge detection"
   ]
  },
  {
   "cell_type": "markdown",
   "metadata": {
    "id": "ZW0pJammVJ-s"
   },
   "source": [
    "### 5. Define Region of Interest (ROI)"
   ]
  },
  {
   "cell_type": "code",
   "execution_count": 5,
   "metadata": {
    "executionInfo": {
     "elapsed": 7,
     "status": "ok",
     "timestamp": 1735739934061,
     "user": {
      "displayName": "Emmanuel David",
      "userId": "10670689060028341610"
     },
     "user_tz": 0
    },
    "id": "aa-6Fu0hVQka"
   },
   "outputs": [],
   "source": [
    "import numpy as np\n",
    "\n",
    "height, width = edges.shape\n",
    "\n",
    "mask = np.zeros_like(edges)\n",
    "polygon = np.array([[\n",
    "    (0, height),\n",
    "    (width, height),\n",
    "    (width // 2, height // 2)\n",
    "]], np.int32)\n",
    "\n",
    "cv2.fillPoly(mask, polygon, 255)\n",
    "\n",
    "masked_edges = cv2.bitwise_and(edges, mask)"
   ]
  },
  {
   "cell_type": "markdown",
   "metadata": {
    "id": "cSayLi3KWTOy"
   },
   "source": [
    "### 5. Detect and Highlight Lane Lines"
   ]
  },
  {
   "cell_type": "code",
   "execution_count": 6,
   "metadata": {
    "executionInfo": {
     "elapsed": 6,
     "status": "ok",
     "timestamp": 1735739934061,
     "user": {
      "displayName": "Emmanuel David",
      "userId": "10670689060028341610"
     },
     "user_tz": 0
    },
    "id": "CmOBG_eWWblo"
   },
   "outputs": [],
   "source": [
    "lines = cv2.HoughLinesP(masked_edges, rho=1, theta=np.pi/180, threshold=50, minLineLength=50, maxLineGap=20)\n",
    "\n",
    "for line in lines:\n",
    "  x1, y1, x2, y2 = line[0]\n",
    "  cv2.line(image, (x1, y1), (x2, y2), (255, 0, 0), 5)"
   ]
  },
  {
   "cell_type": "markdown",
   "metadata": {
    "id": "Mmh8kA6kGsnM"
   },
   "source": [
    "### 6. Save Processed Images"
   ]
  },
  {
   "cell_type": "code",
   "execution_count": 7,
   "metadata": {
    "executionInfo": {
     "elapsed": 86281,
     "status": "ok",
     "timestamp": 1735740020337,
     "user": {
      "displayName": "Emmanuel David",
      "userId": "10670689060028341610"
     },
     "user_tz": 0
    },
    "id": "p6lm0tUdG5TD"
   },
   "outputs": [],
   "source": [
    "output_folder = '/content/drive/My Drive/Lane-Detection-System/processed_images/'\n",
    "os.makedirs(output_folder, exist_ok=True)\n",
    "\n",
    "for idx, image_path in enumerate(image_files):\n",
    "  processed_image_path = os.path.join(output_folder, f\"processed_{idx+1}.jpg\")\n",
    "  cv2.imwrite(processed_image_path, image)"
   ]
  },
  {
   "cell_type": "markdown",
   "metadata": {
    "id": "Is3S7-8lIFrY"
   },
   "source": [
    "### 7. Visualize Results"
   ]
  },
  {
   "cell_type": "code",
   "execution_count": null,
   "metadata": {
    "id": "k_A6gbNKIMc5"
   },
   "outputs": [],
   "source": [
    "import matplotlib.pyplot as plt\n",
    "\n",
    "plt.figure(figsize=(10, 5))\n",
    "plt.subplot(1, 2, 1)\n",
    "plt.imshow(cv2.cvtColor(original_image, cv2.COLOR_BGR2RGB))\n",
    "plt.title(\"Original Image\")\n",
    "plt.subplot(1, 2, 2)\n",
    "plt.imshow(cv2.cvtColor(processed_image, cv2.COLOR_BGR2RGB))\n",
    "plt.title(\"Processed Image\")\n",
    "plt.show()"
   ]
  }
 ],
 "metadata": {
  "accelerator": "GPU",
  "colab": {
   "authorship_tag": "ABX9TyPNx3To83W60dkp3SzrU6UF",
   "gpuType": "T4",
   "provenance": []
  },
  "kernelspec": {
   "display_name": "Python 3",
   "name": "python3"
  },
  "language_info": {
   "name": "python"
  }
 },
 "nbformat": 4,
 "nbformat_minor": 0
}
